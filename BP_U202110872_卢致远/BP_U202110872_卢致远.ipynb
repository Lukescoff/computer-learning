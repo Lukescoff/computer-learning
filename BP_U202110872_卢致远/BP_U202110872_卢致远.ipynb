{
 "cells": [
  {
   "cell_type": "markdown",
   "id": "d62bbcc5",
   "metadata": {},
   "source": [
    "# BP神经网络\n",
    "\n",
    "根据课堂所学原理，补全BP神经网络核心运算代码\n",
    "\n",
    "并在本文件中实现功能，实现以下功能：\n",
    "\n",
    "1. 根据BP神经网络原理，实现简单的三层神经网络(64, 100, 10)；\n",
    "2. 用该网络实现手写数字的识别；\n",
    "3. 自己拍摄一张手写数字，将其展示在文件中并进行识别。"
   ]
  },
  {
   "cell_type": "code",
   "execution_count": 2,
   "id": "78be9954",
   "metadata": {},
   "outputs": [],
   "source": [
    "import numpy as np\n",
    "from matplotlib import pyplot as plt\n",
    "from sklearn.datasets import load_digits\n",
    "from sklearn.preprocessing import LabelBinarizer# 标签二值化\n",
    "from sklearn.model_selection import train_test_split # 切割数据"
   ]
  },
  {
   "cell_type": "markdown",
   "id": "8f2682ca",
   "metadata": {},
   "source": [
    "### 1. 根据BP神经网络原理，实现简单的三层神经网络(64, 100, 10)"
   ]
  },
  {
   "cell_type": "code",
   "execution_count": 3,
   "id": "e638dd02",
   "metadata": {},
   "outputs": [],
   "source": [
    "def sigmoid(x):\n",
    "    return 1/(1+np.exp(-x))\n",
    " \n",
    "def dsigmoid(x):\n",
    "    return sigmoid(x)*(1 - sigmoid(x))"
   ]
  },
  {
   "cell_type": "code",
   "execution_count": 4,
   "id": "ea9708e1",
   "metadata": {},
   "outputs": [],
   "source": [
    "############################# To do #############################\n",
    "class NeuralNetwork:\n",
    "    def __init__(self, layers):  # (64,100,10) # 初始化网络\n",
    "        self.weights = [np.random.randn(y, x) for x, y in zip(layers[:-1], layers[1:])] # zip两个（64，100）（100，10）矩阵\n",
    "        self.biases = [np.random.randn(y, 1) for y in layers[1:]]\n",
    "        \n",
    "    def update_weights(self, x, y, lr):\n",
    "        nabla_b = [np.zeros(b.shape) for b in self.biases]\n",
    "        nabla_w = [np.zeros(w.shape) for w in self.weights]\n",
    "\n",
    "        # 前向传播\n",
    "        x = np.reshape(x, (x.shape[0], 1))\n",
    "        y = np.reshape(y, (y.shape[0], 1))\n",
    "        activation = x\n",
    "        activations = [x]  # 列表存储所有激活值，层与层之间\n",
    "        zs = []  # 列表存储所有的z向量，层与层之间的\n",
    "        for w, b in zip(self.weights, self.biases):\n",
    "            z = np.dot(w, activation) + b\n",
    "            zs.append(z)\n",
    "            activation = sigmoid(z)\n",
    "            activations.append(activation)\n",
    "\n",
    "        # 反向传播\n",
    "        delta = (activations[-1] - y) * (activations[-1] * (1 - activations[-1]))  # 使用已计算的激活值\n",
    "        nabla_b[-1] = delta\n",
    "        nabla_w[-1] = np.outer(delta, activations[-2])\n",
    "\n",
    "        for l in range(2, len(self.weights) + 1):\n",
    "            z = zs[-l]\n",
    "            sp = activations[-l] * (1 - activations[-l])  # 同样使用已计算的激活值\n",
    "            delta = np.dot(self.weights[-l + 1].transpose(), delta) * sp\n",
    "            nabla_b[-l] = delta\n",
    "            nabla_w[-l] = np.outer(delta, activations[-l - 1])\n",
    "\n",
    "        # 更新权重和偏置\n",
    "        self.weights = [w - (lr / x.shape[1]) * nw for w, nw in zip(self.weights, nabla_w)]\n",
    "        self.biases = [b - (lr / x.shape[1]) * nb for b, nb in zip(self.biases, nabla_b)]\n",
    "        \n",
    "        \n",
    "    def train(self, x_data, y_data, lr=0.015, epochs=10000):\n",
    "        accuracy = []  # 用来保存测试过程中的准确率\n",
    "        loss = []  # 用来保存测试时产生的代价函数的值\n",
    "\n",
    "        for n in range(epochs + 1):\n",
    "            # 对于每个训练样本更新权重\n",
    "            for x, y in zip(x_data, y_data):\n",
    "                self.update_weights(x, y, lr)\n",
    "\n",
    "            # 每训练100次预测，输出一次预测准确率\n",
    "            if n % 100 == 0 and n != 0:\n",
    "                print(n)\n",
    "                predictions = []\n",
    "                for j in range(X_test.shape[0]):\n",
    "                    # 获取预测结果：返回与十个标签值逼近的距离，数值最大的选为本次的预测值\n",
    "                    output = self.predict(X_test[j])\n",
    "                    # 将最大的数值所对应的标签返回\n",
    "                    predictions.append(np.argmax(output))  # 获取预测结果\n",
    "                acc = np.mean(np.equal(predictions, y_test))\n",
    "                accuracy.append(acc)\n",
    "                cost = np.mean(np.square(y_test - predictions) / 2)\n",
    "                loss.append(cost)\n",
    "                # np.equal()：相同返回true，不同返回false\n",
    "\n",
    "        return accuracy, loss\n",
    "        \n",
    "    def predict(self, x):\n",
    "        # Convert input array into 2D array if it's not already\n",
    "        if x.ndim == 1:\n",
    "            x = np.reshape(x, (len(x), 1))\n",
    "            # Forward pass\n",
    "        activation = x\n",
    "        for w, b in zip(self.weights, self.biases):\n",
    "            z = np.dot(w, activation) + b\n",
    "            activation = sigmoid(z)\n",
    "        layer2 = activation\n",
    "        # 计算输出层得到的结果\n",
    "        return layer2"
   ]
  },
  {
   "cell_type": "markdown",
   "id": "5cf4790c",
   "metadata": {},
   "source": [
    "### 2. 实现手写数字识别"
   ]
  },
  {
   "cell_type": "code",
   "execution_count": 5,
   "id": "2b4e6b6a",
   "metadata": {},
   "outputs": [],
   "source": [
    "digits = load_digits()# 载入数据\n",
    "X = digits.data# 数据\n",
    "y = digits.target# 标签\n",
    "\n",
    "# 数据归一化\n",
    "X -= X.min()\n",
    "X /= X.max()"
   ]
  },
  {
   "cell_type": "code",
   "execution_count": 6,
   "id": "a6d09c5c",
   "metadata": {},
   "outputs": [
    {
     "name": "stdout",
     "output_type": "stream",
     "text": [
      "100\n",
      "200\n",
      "300\n",
      "400\n",
      "500\n",
      "600\n",
      "700\n",
      "800\n",
      "900\n",
      "1000\n",
      "1100\n",
      "1200\n",
      "1300\n",
      "1400\n",
      "1500\n",
      "1600\n",
      "1700\n",
      "1800\n",
      "1900\n",
      "2000\n",
      "2100\n",
      "2200\n",
      "2300\n",
      "2400\n",
      "2500\n",
      "2600\n",
      "2700\n",
      "2800\n",
      "2900\n",
      "3000\n",
      "3100\n",
      "3200\n",
      "3300\n",
      "3400\n",
      "3500\n",
      "3600\n",
      "3700\n",
      "3800\n",
      "3900\n",
      "4000\n",
      "4100\n",
      "4200\n",
      "4300\n",
      "4400\n",
      "4500\n",
      "4600\n",
      "4700\n",
      "4800\n",
      "4900\n",
      "5000\n",
      "5100\n",
      "5200\n",
      "5300\n",
      "5400\n",
      "5500\n",
      "5600\n",
      "5700\n",
      "5800\n",
      "5900\n",
      "6000\n",
      "6100\n",
      "6200\n",
      "6300\n",
      "6400\n",
      "6500\n",
      "6600\n",
      "6700\n",
      "6800\n",
      "6900\n",
      "7000\n",
      "7100\n",
      "7200\n",
      "7300\n",
      "7400\n",
      "7500\n",
      "7600\n",
      "7700\n",
      "7800\n",
      "7900\n",
      "8000\n"
     ]
    }
   ],
   "source": [
    "# 网络初始化\n",
    "nn = NeuralNetwork([64, 100, 10])\n",
    "\n",
    "# 将数据数据集分为X_train,X_test,y_train,y_test\n",
    "X_train, X_test, y_train, y_test = train_test_split(X, y, test_size=0.2)\n",
    " \n",
    "# 数据处理,标签二值化\n",
    "label_binarizer = LabelBinarizer()\n",
    "labels_train = label_binarizer.fit_transform(y_train)\n",
    "labels_test = label_binarizer.transform(y_test)\n",
    "\n",
    "# 训练,需要十几分钟\n",
    "epoch = 8000\n",
    "accuracy, loss = nn.train(X_train, labels_train, epochs=epoch)"
   ]
  },
  {
   "cell_type": "code",
   "execution_count": 7,
   "id": "652cf570",
   "metadata": {},
   "outputs": [
    {
     "data": {
      "image/png": "[encoded data removed]",
      "text/plain": [
       "<Figure size 640x480 with 2 Axes>"
      ]
     },
     "metadata": {},
     "output_type": "display_data"
    }
   ],
   "source": [
    "# 训练结果可视化\n",
    "plt.subplot(2, 1, 1)\n",
    "plt.plot(range(0, epoch, int(epoch/len(loss))), loss)\n",
    "plt.ylabel('loss')\n",
    "plt.subplot(2, 1, 2)\n",
    "plt.plot(range(0, epoch, int(epoch/(len(accuracy)))), accuracy)\n",
    "plt.xlabel('epoch')\n",
    "plt.ylabel('accuracy')\n",
    "plt.show()"
   ]
  },
  {
   "cell_type": "markdown",
   "id": "b305a519",
   "metadata": {},
   "source": [
    "### 3. 拍摄手写数字并使用训练好的模型进行预测"
   ]
  },
  {
   "cell_type": "code",
   "execution_count": 16,
   "id": "3df9193e",
   "metadata": {},
   "outputs": [
    {
     "name": "stdout",
     "output_type": "stream",
     "text": [
      "识别的数字为： 7\n"
     ]
    },
    {
     "data": {
      "image/png": "[encoded data removed]",
      "text/plain": [
       "<Figure size 640x480 with 1 Axes>"
      ]
     },
     "metadata": {},
     "output_type": "display_data"
    }
   ],
   "source": [
    "import cv2\n",
    "def predict_num(img, nn):\n",
    "    # 将图像大小调整为8x8像素\n",
    "    img_resized = cv2.resize(img, (8, 8), interpolation=cv2.INTER_AREA)\n",
    "    # 反转颜色（因为原始数据集是白底黑字）\n",
    "    img_inverted = 255 - img_resized\n",
    "    \n",
    "    # 将像素值归一化到0和1之间\n",
    "    img_normalized = img_inverted / 255.0\n",
    "    # 将图像展平为64个特征的一维数组\n",
    "    img_flattened = img_normalized.flatten()\n",
    "    # 使用训练好的神经网络预测数字\n",
    "    prediction = nn.predict(img_flattened)\n",
    "    # 返回概率最高的索引，对应预测的数字\n",
    "    return np.argmax(prediction)\n",
    "\n",
    "\n",
    "img = cv2.imread('D:/PyCharm Community Edition 2024.1/Project/for_class/computer_learning/7.jpg', 0)  # 将引号中的图像名改为你命名的图像\n",
    "plt.imshow(img)\n",
    "# img = img.astype(np.float64)\n",
    "print(\"识别的数字为：\", predict_num(img, nn))"
   ]
  },
  {
   "cell_type": "markdown",
   "id": "b43e9628",
   "metadata": {},
   "source": [
    "## 提交方式\n",
    "\n",
    "将以下两个文件打包为压缩包\n",
    "1. 在ipynb或py文件中实现以上代码\n",
    "2. 你自己拍摄的手写数字图片\n",
    "\n",
    "\n",
    "\n",
    "文件命名方式/邮件主题：BP_学号_姓名\n",
    "\n",
    "文件放至邮件附件中提交至：d202180247@hust.edu.cn\n",
    "\n",
    "截止时间：5.18晚 23：59"
   ]
  }
 ],
 "metadata": {
  "kernelspec": {
   "display_name": "Python 3 (ipykernel)",
   "language": "python",
   "name": "python3"
  },
  "language_info": {
   "codemirror_mode": {
    "name": "ipython",
    "version": 3
   },
   "file_extension": ".py",
   "mimetype": "text/x-python",
   "name": "python",
   "nbconvert_exporter": "python",
   "pygments_lexer": "ipython3",
   "version": "3.11.7"
  }
 },
 "nbformat": 4,
 "nbformat_minor": 5
}
